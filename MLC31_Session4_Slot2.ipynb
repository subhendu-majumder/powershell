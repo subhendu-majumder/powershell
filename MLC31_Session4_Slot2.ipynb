{
  "nbformat": 4,
  "nbformat_minor": 0,
  "metadata": {
    "colab": {
      "name": "MLC31_Session4_Slot2.ipynb",
      "provenance": [],
      "collapsed_sections": [],
      "include_colab_link": true
    },
    "kernelspec": {
      "name": "python3",
      "display_name": "Python 3"
    },
    "language_info": {
      "name": "python"
    }
  },
  "cells": [
    {
      "cell_type": "markdown",
      "metadata": {
        "id": "view-in-github",
        "colab_type": "text"
      },
      "source": [
        "<a href=\"https://colab.research.google.com/github/subhendu-majumder/powershell/blob/main/MLC31_Session4_Slot2.ipynb\" target=\"_parent\"><img src=\"https://colab.research.google.com/assets/colab-badge.svg\" alt=\"Open In Colab\"/></a>"
      ]
    },
    {
      "cell_type": "code",
      "metadata": {
        "id": "rt4dYVlnkOHL",
        "colab": {
          "base_uri": "https://localhost:8080/",
          "height": 35
        },
        "outputId": "a85ced0b-f63c-4264-d66d-736d27ff08de"
      },
      "source": [
        "## reverse the words of string\n",
        "s = 'nohtyP si nuf ot nrael'\n",
        "' '.join([w[::-1] for w in s.split()])"
      ],
      "execution_count": null,
      "outputs": [
        {
          "output_type": "execute_result",
          "data": {
            "application/vnd.google.colaboratory.intrinsic+json": {
              "type": "string"
            },
            "text/plain": [
              "'Python is fun to learn'"
            ]
          },
          "metadata": {
            "tags": []
          },
          "execution_count": 4
        }
      ]
    },
    {
      "cell_type": "code",
      "metadata": {
        "id": "Wm9H3q-XlTpl",
        "colab": {
          "base_uri": "https://localhost:8080/",
          "height": 35
        },
        "outputId": "b8854420-0b1a-47cd-e7ab-0a3d739f56c2"
      },
      "source": [
        "' '.join(map(lambda x:x[::-1] , s.split()))"
      ],
      "execution_count": null,
      "outputs": [
        {
          "output_type": "execute_result",
          "data": {
            "application/vnd.google.colaboratory.intrinsic+json": {
              "type": "string"
            },
            "text/plain": [
              "'Python is fun to learn'"
            ]
          },
          "metadata": {
            "tags": []
          },
          "execution_count": 7
        }
      ]
    },
    {
      "cell_type": "code",
      "metadata": {
        "colab": {
          "base_uri": "https://localhost:8080/"
        },
        "id": "tm5gpy5ZltZO",
        "outputId": "ca850420-0941-4831-ee81-d497e6f03b48"
      },
      "source": [
        "li = ['test_01.png','test_10.png','test_9.png']\n",
        "li.sort(key = lambda x: int(x.split('_')[-1].split('.')[0]))\n",
        "li"
      ],
      "execution_count": null,
      "outputs": [
        {
          "output_type": "execute_result",
          "data": {
            "text/plain": [
              "['test_01.png', 'test_9.png', 'test_10.png']"
            ]
          },
          "metadata": {
            "tags": []
          },
          "execution_count": 1
        }
      ]
    },
    {
      "cell_type": "code",
      "metadata": {
        "colab": {
          "base_uri": "https://localhost:8080/"
        },
        "id": "icSySvPAl2pc",
        "outputId": "c7da5e9e-a565-4e16-b881-c59c909df04a"
      },
      "source": [
        "from datetime import datetime as dt\n",
        "temp = dt.strptime('20/10/2020','%d/%m/%Y')\n",
        "temp"
      ],
      "execution_count": null,
      "outputs": [
        {
          "output_type": "execute_result",
          "data": {
            "text/plain": [
              "datetime.datetime(2020, 10, 20, 0, 0)"
            ]
          },
          "metadata": {
            "tags": []
          },
          "execution_count": 16
        }
      ]
    },
    {
      "cell_type": "code",
      "metadata": {
        "id": "hDmFjbu7l2wJ"
      },
      "source": [
        ""
      ],
      "execution_count": null,
      "outputs": []
    },
    {
      "cell_type": "code",
      "metadata": {
        "id": "JspPo3AnlTsF"
      },
      "source": [
        "## sort the reports based on the report genration date\n",
        "ReportGenrationDates = {'P1':'26/01/2020','P2':'24/01/2020','P4':'27/02/2019', 'P3':'28/02/2020'}\n",
        "PatientsReports = ['P1.png', 'P2.png', 'P3.png', 'P4.png']"
      ],
      "execution_count": null,
      "outputs": []
    },
    {
      "cell_type": "code",
      "metadata": {
        "colab": {
          "base_uri": "https://localhost:8080/",
          "height": 35
        },
        "id": "4hPBwoDYMeC8",
        "outputId": "7ceca6ea-f9e8-44ca-9ee8-2f3d0bc80738"
      },
      "source": [
        "ReportGenrationDates['P2']"
      ],
      "execution_count": null,
      "outputs": [
        {
          "output_type": "execute_result",
          "data": {
            "application/vnd.google.colaboratory.intrinsic+json": {
              "type": "string"
            },
            "text/plain": [
              "'24/01/2020'"
            ]
          },
          "metadata": {
            "tags": []
          },
          "execution_count": 12
        }
      ]
    },
    {
      "cell_type": "code",
      "metadata": {
        "colab": {
          "base_uri": "https://localhost:8080/"
        },
        "id": "ZVl6ue1FL5g8",
        "outputId": "3b99d633-1fe2-4959-b566-6de33b4408d7"
      },
      "source": [
        "PatientsReports.sort(key = lambda x:dt.strptime(ReportGenrationDates[x.split('.')[0]],'%d/%m/%Y'))\n",
        "PatientsReports"
      ],
      "execution_count": null,
      "outputs": [
        {
          "output_type": "execute_result",
          "data": {
            "text/plain": [
              "['P4.png', 'P2.png', 'P1.png', 'P3.png']"
            ]
          },
          "metadata": {
            "tags": []
          },
          "execution_count": 17
        }
      ]
    },
    {
      "cell_type": "code",
      "metadata": {
        "id": "UzLEfLipmybz",
        "colab": {
          "base_uri": "https://localhost:8080/"
        },
        "outputId": "00bb0b45-95a2-4ce9-b5a6-6a89693baeac"
      },
      "source": [
        "## print the pattern\n",
        "1\n",
        "22\n",
        "333\n",
        "4444\n",
        "\n",
        "N=5\n",
        "for i in range(1,N+1):\n",
        "  print(str(i)*i)"
      ],
      "execution_count": null,
      "outputs": [
        {
          "output_type": "stream",
          "text": [
            "1\n",
            "22\n",
            "333\n",
            "4444\n",
            "55555\n"
          ],
          "name": "stdout"
        }
      ]
    },
    {
      "cell_type": "code",
      "metadata": {
        "id": "ZUqzmDpplTys"
      },
      "source": [
        "## print the pattern\n",
        "# *****\n",
        "#  ***\n",
        "#   *"
      ],
      "execution_count": null,
      "outputs": []
    },
    {
      "cell_type": "code",
      "metadata": {
        "id": "Qvptd29smTFr",
        "colab": {
          "base_uri": "https://localhost:8080/"
        },
        "outputId": "afd69168-6456-495a-c317-81f01db971ab"
      },
      "source": [
        "N = 10\n",
        "for i in range(N)[::-1]:\n",
        "  print(' '*(N-i) + '*'*(i*2+1))"
      ],
      "execution_count": null,
      "outputs": [
        {
          "output_type": "stream",
          "text": [
            " *******************\n",
            "  *****************\n",
            "   ***************\n",
            "    *************\n",
            "     ***********\n",
            "      *********\n",
            "       *******\n",
            "        *****\n",
            "         ***\n",
            "          *\n"
          ],
          "name": "stdout"
        }
      ]
    },
    {
      "cell_type": "code",
      "metadata": {
        "id": "5ljugtsbmTHu"
      },
      "source": [
        "## define a functions that will automatically set the alarm at three different time based on workday,weekend and holiday\n",
        "## workday - 7:00\n",
        "## Weekend - 10:00\n",
        "## vacation - \"OFF\""
      ],
      "execution_count": null,
      "outputs": []
    },
    {
      "cell_type": "code",
      "metadata": {
        "id": "YhT7fECbPypq"
      },
      "source": [
        ""
      ],
      "execution_count": null,
      "outputs": []
    },
    {
      "cell_type": "markdown",
      "metadata": {
        "id": "jtKjHdY6P24o"
      },
      "source": [
        "## File read write"
      ]
    },
    {
      "cell_type": "markdown",
      "metadata": {
        "id": "lnDbpSRDP7m2"
      },
      "source": [
        "Read Only (‘r’) : Open text file for reading. The handle is positioned at the beginning of the file. If the file does not exists, raises I/O error. This is also the default mode in which file is opened.\n",
        "\n",
        "Read and Write (‘r+’) : Open the file for reading and writing. The handle is positioned at the beginning of the file. Raises I/O error if the file does not exists.\n",
        "\n",
        "Write Only (‘w’) : Open the file for writing. For existing file, the data is truncated and over-written. The handle is positioned at the beginning of the file. Creates the file if the file does not exists.\n",
        "\n",
        "Write and Read (‘w+’) : Open the file for reading and writing. For existing file, data is truncated and over-written. The handle is positioned at the beginning of the file.\n",
        "\n",
        "Append Only (‘a’) : Open the file for writing. The file is created if it does not exist. The handle is positioned at the end of the file. The data being written will be inserted at the end, after the existing data.\n",
        "\n",
        "Append and Read (‘a+’) : Open the file for reading and writing. The file is created if it does not exist. The handle is positioned at the end of the file. The data being written will be inserted at the end, after the existing data."
      ]
    },
    {
      "cell_type": "code",
      "metadata": {
        "id": "X4-9xheZPysS"
      },
      "source": [
        "fp = open('temp.txt', 'w')\n",
        "fp.write('some text 1 \\n')\n",
        "fp.write('some text 2 \\n')\n",
        "fp.write('some text 3 \\n')\n",
        "fp.close()"
      ],
      "execution_count": null,
      "outputs": []
    },
    {
      "cell_type": "code",
      "metadata": {
        "colab": {
          "base_uri": "https://localhost:8080/"
        },
        "id": "TcgQq-k8PyzD",
        "outputId": "1b210d98-74ea-4954-d713-ebf8588b4857"
      },
      "source": [
        "fp = open('temp.txt', 'r')\n",
        "print(fp.read())\n",
        "fp.close()"
      ],
      "execution_count": null,
      "outputs": [
        {
          "output_type": "stream",
          "text": [
            "some text 1 \n",
            "some text 2 \n",
            "some text 3 \n",
            "\n"
          ],
          "name": "stdout"
        }
      ]
    },
    {
      "cell_type": "code",
      "metadata": {
        "colab": {
          "base_uri": "https://localhost:8080/"
        },
        "id": "ACDngCWhPy08",
        "outputId": "58132614-2bb7-4fcd-c83c-f45a3723a0c4"
      },
      "source": [
        "fp = open('temp.txt', 'r')\n",
        "print(fp.readline())\n",
        "fp.close()"
      ],
      "execution_count": null,
      "outputs": [
        {
          "output_type": "stream",
          "text": [
            "some text 1 \n",
            "\n"
          ],
          "name": "stdout"
        }
      ]
    },
    {
      "cell_type": "code",
      "metadata": {
        "colab": {
          "base_uri": "https://localhost:8080/"
        },
        "id": "-dpBgwfLPy2x",
        "outputId": "fece8b17-9e9a-472b-8e06-b1b52fe3140a"
      },
      "source": [
        "fp = open('temp.txt', 'r')\n",
        "print(fp.readlines()[2])\n",
        "fp.close()"
      ],
      "execution_count": null,
      "outputs": [
        {
          "output_type": "stream",
          "text": [
            "some text 3 \n",
            "\n"
          ],
          "name": "stdout"
        }
      ]
    },
    {
      "cell_type": "code",
      "metadata": {
        "colab": {
          "base_uri": "https://localhost:8080/"
        },
        "id": "6FAl301YTNzp",
        "outputId": "5e28ded8-c8b3-426f-ac85-a4ff21110250"
      },
      "source": [
        "with open('temp.txt','w+') as fp:\n",
        "  #print(fp.read())\n",
        "  for i in range(10):\n",
        "    fp.write(F'{i}) some text \\n')\n",
        "  fp.seek(0)\n",
        "  print(fp.read())"
      ],
      "execution_count": null,
      "outputs": [
        {
          "output_type": "stream",
          "text": [
            "0) some text \n",
            "1) some text \n",
            "2) some text \n",
            "3) some text \n",
            "4) some text \n",
            "5) some text \n",
            "6) some text \n",
            "7) some text \n",
            "8) some text \n",
            "9) some text \n",
            "\n"
          ],
          "name": "stdout"
        }
      ]
    },
    {
      "cell_type": "code",
      "metadata": {
        "colab": {
          "base_uri": "https://localhost:8080/"
        },
        "id": "hKdaQtmqTN28",
        "outputId": "58c884cc-8414-42c9-e5e4-a67b2eaf004d"
      },
      "source": [
        "fp = open('temp.txt', 'r')\n",
        "print(fp.read())\n",
        "fp.close()"
      ],
      "execution_count": null,
      "outputs": [
        {
          "output_type": "stream",
          "text": [
            "0) some text \n",
            "1) some text \n",
            "2) some text \n",
            "3) some text \n",
            "4) some text \n",
            "5) some text \n",
            "6) some text \n",
            "7) some text \n",
            "8) some text \n",
            "9) some text \n",
            "\n"
          ],
          "name": "stdout"
        }
      ]
    },
    {
      "cell_type": "code",
      "metadata": {
        "colab": {
          "base_uri": "https://localhost:8080/",
          "height": 422
        },
        "id": "5XPCi7xKPy4q",
        "outputId": "1680a777-7ef5-48dc-c1c1-40b64e2b8d99"
      },
      "source": [
        "import pandas as pd\n",
        "import random\n",
        "temp = pd.DataFrame()\n",
        "temp['xyz'] = random.choices(['x','y','z'],k=100)\n",
        "temp['target'] = random.choices([0,1],k=100)\n",
        "temp"
      ],
      "execution_count": null,
      "outputs": [
        {
          "output_type": "execute_result",
          "data": {
            "text/html": [
              "<div>\n",
              "<style scoped>\n",
              "    .dataframe tbody tr th:only-of-type {\n",
              "        vertical-align: middle;\n",
              "    }\n",
              "\n",
              "    .dataframe tbody tr th {\n",
              "        vertical-align: top;\n",
              "    }\n",
              "\n",
              "    .dataframe thead th {\n",
              "        text-align: right;\n",
              "    }\n",
              "</style>\n",
              "<table border=\"1\" class=\"dataframe\">\n",
              "  <thead>\n",
              "    <tr style=\"text-align: right;\">\n",
              "      <th></th>\n",
              "      <th>xyz</th>\n",
              "      <th>target</th>\n",
              "    </tr>\n",
              "  </thead>\n",
              "  <tbody>\n",
              "    <tr>\n",
              "      <th>0</th>\n",
              "      <td>x</td>\n",
              "      <td>1</td>\n",
              "    </tr>\n",
              "    <tr>\n",
              "      <th>1</th>\n",
              "      <td>y</td>\n",
              "      <td>1</td>\n",
              "    </tr>\n",
              "    <tr>\n",
              "      <th>2</th>\n",
              "      <td>x</td>\n",
              "      <td>1</td>\n",
              "    </tr>\n",
              "    <tr>\n",
              "      <th>3</th>\n",
              "      <td>z</td>\n",
              "      <td>0</td>\n",
              "    </tr>\n",
              "    <tr>\n",
              "      <th>4</th>\n",
              "      <td>y</td>\n",
              "      <td>0</td>\n",
              "    </tr>\n",
              "    <tr>\n",
              "      <th>...</th>\n",
              "      <td>...</td>\n",
              "      <td>...</td>\n",
              "    </tr>\n",
              "    <tr>\n",
              "      <th>95</th>\n",
              "      <td>y</td>\n",
              "      <td>1</td>\n",
              "    </tr>\n",
              "    <tr>\n",
              "      <th>96</th>\n",
              "      <td>z</td>\n",
              "      <td>0</td>\n",
              "    </tr>\n",
              "    <tr>\n",
              "      <th>97</th>\n",
              "      <td>y</td>\n",
              "      <td>0</td>\n",
              "    </tr>\n",
              "    <tr>\n",
              "      <th>98</th>\n",
              "      <td>z</td>\n",
              "      <td>0</td>\n",
              "    </tr>\n",
              "    <tr>\n",
              "      <th>99</th>\n",
              "      <td>z</td>\n",
              "      <td>1</td>\n",
              "    </tr>\n",
              "  </tbody>\n",
              "</table>\n",
              "<p>100 rows × 2 columns</p>\n",
              "</div>"
            ],
            "text/plain": [
              "   xyz  target\n",
              "0    x       1\n",
              "1    y       1\n",
              "2    x       1\n",
              "3    z       0\n",
              "4    y       0\n",
              "..  ..     ...\n",
              "95   y       1\n",
              "96   z       0\n",
              "97   y       0\n",
              "98   z       0\n",
              "99   z       1\n",
              "\n",
              "[100 rows x 2 columns]"
            ]
          },
          "metadata": {
            "tags": []
          },
          "execution_count": 67
        }
      ]
    },
    {
      "cell_type": "code",
      "metadata": {
        "id": "GiEyrXU1UZav"
      },
      "source": [
        "temp.to_csv('temp.csv',index=False)"
      ],
      "execution_count": null,
      "outputs": []
    },
    {
      "cell_type": "code",
      "metadata": {
        "colab": {
          "base_uri": "https://localhost:8080/",
          "height": 422
        },
        "id": "92Pk3L8fUZeE",
        "outputId": "e6509462-902d-4cee-cc65-fc969ec9b052"
      },
      "source": [
        "pd.read_csv('temp.csv')"
      ],
      "execution_count": null,
      "outputs": [
        {
          "output_type": "execute_result",
          "data": {
            "text/html": [
              "<div>\n",
              "<style scoped>\n",
              "    .dataframe tbody tr th:only-of-type {\n",
              "        vertical-align: middle;\n",
              "    }\n",
              "\n",
              "    .dataframe tbody tr th {\n",
              "        vertical-align: top;\n",
              "    }\n",
              "\n",
              "    .dataframe thead th {\n",
              "        text-align: right;\n",
              "    }\n",
              "</style>\n",
              "<table border=\"1\" class=\"dataframe\">\n",
              "  <thead>\n",
              "    <tr style=\"text-align: right;\">\n",
              "      <th></th>\n",
              "      <th>xyz</th>\n",
              "      <th>target</th>\n",
              "    </tr>\n",
              "  </thead>\n",
              "  <tbody>\n",
              "    <tr>\n",
              "      <th>0</th>\n",
              "      <td>x</td>\n",
              "      <td>1</td>\n",
              "    </tr>\n",
              "    <tr>\n",
              "      <th>1</th>\n",
              "      <td>y</td>\n",
              "      <td>1</td>\n",
              "    </tr>\n",
              "    <tr>\n",
              "      <th>2</th>\n",
              "      <td>x</td>\n",
              "      <td>1</td>\n",
              "    </tr>\n",
              "    <tr>\n",
              "      <th>3</th>\n",
              "      <td>z</td>\n",
              "      <td>0</td>\n",
              "    </tr>\n",
              "    <tr>\n",
              "      <th>4</th>\n",
              "      <td>y</td>\n",
              "      <td>0</td>\n",
              "    </tr>\n",
              "    <tr>\n",
              "      <th>...</th>\n",
              "      <td>...</td>\n",
              "      <td>...</td>\n",
              "    </tr>\n",
              "    <tr>\n",
              "      <th>95</th>\n",
              "      <td>y</td>\n",
              "      <td>1</td>\n",
              "    </tr>\n",
              "    <tr>\n",
              "      <th>96</th>\n",
              "      <td>z</td>\n",
              "      <td>0</td>\n",
              "    </tr>\n",
              "    <tr>\n",
              "      <th>97</th>\n",
              "      <td>y</td>\n",
              "      <td>0</td>\n",
              "    </tr>\n",
              "    <tr>\n",
              "      <th>98</th>\n",
              "      <td>z</td>\n",
              "      <td>0</td>\n",
              "    </tr>\n",
              "    <tr>\n",
              "      <th>99</th>\n",
              "      <td>z</td>\n",
              "      <td>1</td>\n",
              "    </tr>\n",
              "  </tbody>\n",
              "</table>\n",
              "<p>100 rows × 2 columns</p>\n",
              "</div>"
            ],
            "text/plain": [
              "   xyz  target\n",
              "0    x       1\n",
              "1    y       1\n",
              "2    x       1\n",
              "3    z       0\n",
              "4    y       0\n",
              "..  ..     ...\n",
              "95   y       1\n",
              "96   z       0\n",
              "97   y       0\n",
              "98   z       0\n",
              "99   z       1\n",
              "\n",
              "[100 rows x 2 columns]"
            ]
          },
          "metadata": {
            "tags": []
          },
          "execution_count": 71
        }
      ]
    },
    {
      "cell_type": "code",
      "metadata": {
        "id": "-9f-ltn9UZge"
      },
      "source": [
        "temp.to_excel('temp.xlsx',index=False)"
      ],
      "execution_count": null,
      "outputs": []
    },
    {
      "cell_type": "code",
      "metadata": {
        "colab": {
          "base_uri": "https://localhost:8080/",
          "height": 422
        },
        "id": "FUMOJp8mVDoH",
        "outputId": "2af56ae5-8260-47a1-8b12-04e9f6cb4865"
      },
      "source": [
        "pd.read_excel('temp.xlsx')"
      ],
      "execution_count": null,
      "outputs": [
        {
          "output_type": "execute_result",
          "data": {
            "text/html": [
              "<div>\n",
              "<style scoped>\n",
              "    .dataframe tbody tr th:only-of-type {\n",
              "        vertical-align: middle;\n",
              "    }\n",
              "\n",
              "    .dataframe tbody tr th {\n",
              "        vertical-align: top;\n",
              "    }\n",
              "\n",
              "    .dataframe thead th {\n",
              "        text-align: right;\n",
              "    }\n",
              "</style>\n",
              "<table border=\"1\" class=\"dataframe\">\n",
              "  <thead>\n",
              "    <tr style=\"text-align: right;\">\n",
              "      <th></th>\n",
              "      <th>xyz</th>\n",
              "      <th>target</th>\n",
              "    </tr>\n",
              "  </thead>\n",
              "  <tbody>\n",
              "    <tr>\n",
              "      <th>0</th>\n",
              "      <td>x</td>\n",
              "      <td>1</td>\n",
              "    </tr>\n",
              "    <tr>\n",
              "      <th>1</th>\n",
              "      <td>y</td>\n",
              "      <td>1</td>\n",
              "    </tr>\n",
              "    <tr>\n",
              "      <th>2</th>\n",
              "      <td>x</td>\n",
              "      <td>1</td>\n",
              "    </tr>\n",
              "    <tr>\n",
              "      <th>3</th>\n",
              "      <td>z</td>\n",
              "      <td>0</td>\n",
              "    </tr>\n",
              "    <tr>\n",
              "      <th>4</th>\n",
              "      <td>y</td>\n",
              "      <td>0</td>\n",
              "    </tr>\n",
              "    <tr>\n",
              "      <th>...</th>\n",
              "      <td>...</td>\n",
              "      <td>...</td>\n",
              "    </tr>\n",
              "    <tr>\n",
              "      <th>95</th>\n",
              "      <td>y</td>\n",
              "      <td>1</td>\n",
              "    </tr>\n",
              "    <tr>\n",
              "      <th>96</th>\n",
              "      <td>z</td>\n",
              "      <td>0</td>\n",
              "    </tr>\n",
              "    <tr>\n",
              "      <th>97</th>\n",
              "      <td>y</td>\n",
              "      <td>0</td>\n",
              "    </tr>\n",
              "    <tr>\n",
              "      <th>98</th>\n",
              "      <td>z</td>\n",
              "      <td>0</td>\n",
              "    </tr>\n",
              "    <tr>\n",
              "      <th>99</th>\n",
              "      <td>z</td>\n",
              "      <td>1</td>\n",
              "    </tr>\n",
              "  </tbody>\n",
              "</table>\n",
              "<p>100 rows × 2 columns</p>\n",
              "</div>"
            ],
            "text/plain": [
              "   xyz  target\n",
              "0    x       1\n",
              "1    y       1\n",
              "2    x       1\n",
              "3    z       0\n",
              "4    y       0\n",
              "..  ..     ...\n",
              "95   y       1\n",
              "96   z       0\n",
              "97   y       0\n",
              "98   z       0\n",
              "99   z       1\n",
              "\n",
              "[100 rows x 2 columns]"
            ]
          },
          "metadata": {
            "tags": []
          },
          "execution_count": 78
        }
      ]
    },
    {
      "cell_type": "code",
      "metadata": {
        "id": "vavRoLp7VDqd"
      },
      "source": [
        "MrJ = {'Country': ['Belgium',  'India',  'Brazil'],\n",
        "        'Population': [11190846, 1303171035, 207847528]}"
      ],
      "execution_count": null,
      "outputs": []
    },
    {
      "cell_type": "code",
      "metadata": {
        "id": "QuH_HHVHVaV3"
      },
      "source": [
        "import json"
      ],
      "execution_count": null,
      "outputs": []
    },
    {
      "cell_type": "code",
      "metadata": {
        "colab": {
          "base_uri": "https://localhost:8080/",
          "height": 35
        },
        "id": "pL_8sLcDVbfV",
        "outputId": "973f21d2-30d1-40ff-ec7e-314d22f7d316"
      },
      "source": [
        "json.dumps(MrJ)"
      ],
      "execution_count": null,
      "outputs": [
        {
          "output_type": "execute_result",
          "data": {
            "application/vnd.google.colaboratory.intrinsic+json": {
              "type": "string"
            },
            "text/plain": [
              "'{\"Country\": [\"Belgium\", \"India\", \"Brazil\"], \"Population\": [11190846, 1303171035, 207847528]}'"
            ]
          },
          "metadata": {
            "tags": []
          },
          "execution_count": 81
        }
      ]
    },
    {
      "cell_type": "code",
      "metadata": {
        "id": "5-boY0wmVjYs"
      },
      "source": [
        "with  open('temp.json','w') as fp:\n",
        "  fp.write(json.dumps(MrJ))"
      ],
      "execution_count": null,
      "outputs": []
    },
    {
      "cell_type": "code",
      "metadata": {
        "id": "QQCE01Z1Vr_I"
      },
      "source": [
        "with open('temp.json','w') as fp:\n",
        "  json.dump(MrJ , fp)"
      ],
      "execution_count": null,
      "outputs": []
    },
    {
      "cell_type": "code",
      "metadata": {
        "id": "jtu85qHgVsBL"
      },
      "source": [
        "jsonString = '{\"Country\": [\"Belgium\", \"India\", \"Brazil\"], \"Population\": [11190846, 1303171035, 207847528]}'"
      ],
      "execution_count": null,
      "outputs": []
    },
    {
      "cell_type": "code",
      "metadata": {
        "colab": {
          "base_uri": "https://localhost:8080/"
        },
        "id": "H_DykWJLVsDn",
        "outputId": "c7a22e10-76bd-4120-ca68-6769207678be"
      },
      "source": [
        "json.loads(jsonString)"
      ],
      "execution_count": null,
      "outputs": [
        {
          "output_type": "execute_result",
          "data": {
            "text/plain": [
              "{'Country': ['Belgium', 'India', 'Brazil'],\n",
              " 'Population': [11190846, 1303171035, 207847528]}"
            ]
          },
          "metadata": {
            "tags": []
          },
          "execution_count": 87
        }
      ]
    },
    {
      "cell_type": "code",
      "metadata": {
        "id": "a_tc2PxnVsGd"
      },
      "source": [
        "with open('temp.json','r') as fp:\n",
        "  test = json.load(fp)"
      ],
      "execution_count": null,
      "outputs": []
    },
    {
      "cell_type": "code",
      "metadata": {
        "colab": {
          "base_uri": "https://localhost:8080/"
        },
        "id": "Bn08ch8_XW48",
        "outputId": "47ee0949-5f29-48d8-9920-17f57d395740"
      },
      "source": [
        "test"
      ],
      "execution_count": null,
      "outputs": [
        {
          "output_type": "execute_result",
          "data": {
            "text/plain": [
              "{'Country': ['Belgium', 'India', 'Brazil'],\n",
              " 'Population': [11190846, 1303171035, 207847528]}"
            ]
          },
          "metadata": {
            "tags": []
          },
          "execution_count": 91
        }
      ]
    },
    {
      "cell_type": "code",
      "metadata": {
        "colab": {
          "base_uri": "https://localhost:8080/"
        },
        "id": "aWDJ_64tXR6S",
        "outputId": "3caf0a0a-57e9-4d9b-ed43-3ded0138708b"
      },
      "source": [
        "test['Country']"
      ],
      "execution_count": null,
      "outputs": [
        {
          "output_type": "execute_result",
          "data": {
            "text/plain": [
              "['Belgium', 'India', 'Brazil']"
            ]
          },
          "metadata": {
            "tags": []
          },
          "execution_count": 90
        }
      ]
    },
    {
      "cell_type": "code",
      "metadata": {
        "id": "5WN3pGt6X1ps"
      },
      "source": [
        ""
      ],
      "execution_count": null,
      "outputs": []
    },
    {
      "cell_type": "code",
      "metadata": {
        "id": "q-da-rUNXYpy"
      },
      "source": [
        "class poly:\n",
        "  pass"
      ],
      "execution_count": null,
      "outputs": []
    },
    {
      "cell_type": "code",
      "metadata": {
        "id": "f7YzpJh5XYsM"
      },
      "source": [
        "rect = poly()\n",
        "rect.l = 10\n",
        "rect.w = 20\n",
        "\n",
        "sqr = poly()\n",
        "sqr.l = 10\n",
        "sqr.w = 10"
      ],
      "execution_count": null,
      "outputs": []
    },
    {
      "cell_type": "code",
      "metadata": {
        "id": "btY6eHqrXYu2"
      },
      "source": [
        "class poly:\n",
        "  def __init__(self,l,w):\n",
        "    self.l = l\n",
        "    self.w = w"
      ],
      "execution_count": null,
      "outputs": []
    },
    {
      "cell_type": "code",
      "metadata": {
        "id": "wdaTtco_XYyd"
      },
      "source": [
        "rect = poly(10,20)\n",
        "sqr = poly(10,10)"
      ],
      "execution_count": null,
      "outputs": []
    },
    {
      "cell_type": "code",
      "metadata": {
        "colab": {
          "base_uri": "https://localhost:8080/"
        },
        "id": "5nyn--eOXY0_",
        "outputId": "6a193e4b-3627-48bf-b93b-232410cec76a"
      },
      "source": [
        "rect.l, rect.w"
      ],
      "execution_count": null,
      "outputs": [
        {
          "output_type": "execute_result",
          "data": {
            "text/plain": [
              "(10, 20)"
            ]
          },
          "metadata": {
            "tags": []
          },
          "execution_count": 101
        }
      ]
    },
    {
      "cell_type": "code",
      "metadata": {
        "colab": {
          "base_uri": "https://localhost:8080/"
        },
        "id": "Gc9nwyTkZLlz",
        "outputId": "6e1a8980-4ede-4ae2-b9fe-ac47d79ad20b"
      },
      "source": [
        "sqr.l, sqr.w"
      ],
      "execution_count": null,
      "outputs": [
        {
          "output_type": "execute_result",
          "data": {
            "text/plain": [
              "(10, 10)"
            ]
          },
          "metadata": {
            "tags": []
          },
          "execution_count": 102
        }
      ]
    },
    {
      "cell_type": "code",
      "metadata": {
        "id": "Kx6zp8QiZLob"
      },
      "source": [
        ""
      ],
      "execution_count": null,
      "outputs": []
    },
    {
      "cell_type": "code",
      "metadata": {
        "id": "glgkHqCNZLrV"
      },
      "source": [
        "class customer():\n",
        "  def __init__(self,Fname,Lname,Age,Gender,Mob):\n",
        "    self.Name = F'{Fname} {Lname}'\n",
        "    self.Age = Age\n",
        "    self.Gender = Gender\n",
        "    self.Mob = Mob\n",
        "    self.cust_id = F'{Mob}_{Lname}'\n",
        "    self.reward = 0\n",
        "  \n",
        "  def add_reward(self,value):\n",
        "    self.reward +=value"
      ],
      "execution_count": null,
      "outputs": []
    },
    {
      "cell_type": "code",
      "metadata": {
        "id": "DQlCoOHrZ5Pk"
      },
      "source": [
        "cust1 = customer('Manish','Kumar',30,'male','154654835')\n",
        "cust2 = customer('Saurabh','baghel',25,'male','742458545')"
      ],
      "execution_count": null,
      "outputs": []
    },
    {
      "cell_type": "code",
      "metadata": {
        "colab": {
          "base_uri": "https://localhost:8080/"
        },
        "id": "R9x7uteSZ5SO",
        "outputId": "a4a1beb8-5477-4e4e-ebe4-3791e199ea8c"
      },
      "source": [
        "cust1.add_reward(10)\n",
        "cust1.reward, cust1.Name"
      ],
      "execution_count": null,
      "outputs": [
        {
          "output_type": "execute_result",
          "data": {
            "text/plain": [
              "(10, 'Manish Kumar')"
            ]
          },
          "metadata": {
            "tags": []
          },
          "execution_count": 117
        }
      ]
    },
    {
      "cell_type": "code",
      "metadata": {
        "colab": {
          "base_uri": "https://localhost:8080/"
        },
        "id": "2F2BDNObZ5Ui",
        "outputId": "47070e1b-e2d1-4ea8-91fe-b39707f77bc8"
      },
      "source": [
        "cust2.reward, cust2.Name"
      ],
      "execution_count": null,
      "outputs": [
        {
          "output_type": "execute_result",
          "data": {
            "text/plain": [
              "(0, 'Saurabh baghel')"
            ]
          },
          "metadata": {
            "tags": []
          },
          "execution_count": 118
        }
      ]
    },
    {
      "cell_type": "code",
      "metadata": {
        "colab": {
          "base_uri": "https://localhost:8080/"
        },
        "id": "zzALsG7oZ5Wx",
        "outputId": "7b16a3a6-4923-4333-b353-6c8b81c04597"
      },
      "source": [
        "cust2.add_reward(20)\n",
        "cust2.reward, cust2.Name"
      ],
      "execution_count": null,
      "outputs": [
        {
          "output_type": "execute_result",
          "data": {
            "text/plain": [
              "(20, 'Saurabh baghel')"
            ]
          },
          "metadata": {
            "tags": []
          },
          "execution_count": 119
        }
      ]
    },
    {
      "cell_type": "code",
      "metadata": {
        "id": "_N1BAosYbQSd"
      },
      "source": [
        "class customer():\n",
        "  bonus = 10\n",
        "  def __init__(self,Fname,Lname,Age,Gender,Mob):\n",
        "    self.Name = F'{Fname} {Lname}'\n",
        "    self.Age = Age\n",
        "    self.Gender = Gender\n",
        "    self.Mob = Mob\n",
        "    self.cust_id = F'{Mob}_{Lname}'\n",
        "    self.reward = 0\n",
        "  \n",
        "  def add_reward(self,value):\n",
        "    self.reward +=value\n",
        "\n",
        "  def apply_bonus(self):\n",
        "    self.reward += self.bonus"
      ],
      "execution_count": null,
      "outputs": []
    },
    {
      "cell_type": "code",
      "metadata": {
        "id": "BkTPf4GcbQUz"
      },
      "source": [
        "cust1 = customer('Manish','Kumar',30,'male','154654835')\n",
        "cust2 = customer('Saurabh','baghel',25,'male','742458545')"
      ],
      "execution_count": null,
      "outputs": []
    },
    {
      "cell_type": "code",
      "metadata": {
        "colab": {
          "base_uri": "https://localhost:8080/"
        },
        "id": "muT1Vr2rbm-1",
        "outputId": "741e2c9c-e74b-4e6f-f66d-36eed6b07708"
      },
      "source": [
        "cust1.apply_bonus()\n",
        "cust2.apply_bonus()\n",
        "cust1.reward , cust2.reward"
      ],
      "execution_count": null,
      "outputs": [
        {
          "output_type": "execute_result",
          "data": {
            "text/plain": [
              "(40, 10)"
            ]
          },
          "metadata": {
            "tags": []
          },
          "execution_count": 125
        }
      ]
    },
    {
      "cell_type": "code",
      "metadata": {
        "id": "StTu_lKdcENN"
      },
      "source": [
        "cust1.bonus = 100"
      ],
      "execution_count": null,
      "outputs": []
    },
    {
      "cell_type": "code",
      "metadata": {
        "colab": {
          "base_uri": "https://localhost:8080/"
        },
        "id": "FETY69sYcIF-",
        "outputId": "78b31b47-69bc-4c65-875d-19f514d67269"
      },
      "source": [
        "customer.bonus"
      ],
      "execution_count": null,
      "outputs": [
        {
          "output_type": "execute_result",
          "data": {
            "text/plain": [
              "10"
            ]
          },
          "metadata": {
            "tags": []
          },
          "execution_count": 127
        }
      ]
    },
    {
      "cell_type": "code",
      "metadata": {
        "colab": {
          "base_uri": "https://localhost:8080/",
          "height": 162
        },
        "id": "_qDDEFXGcK74",
        "outputId": "977e025c-b550-403a-94c8-c9bbee4b8790"
      },
      "source": [
        "cust2.bonus"
      ],
      "execution_count": 3,
      "outputs": [
        {
          "output_type": "error",
          "ename": "NameError",
          "evalue": "ignored",
          "traceback": [
            "\u001b[0;31m---------------------------------------------------------------------------\u001b[0m",
            "\u001b[0;31mNameError\u001b[0m                                 Traceback (most recent call last)",
            "\u001b[0;32m<ipython-input-3-b791d9ef3a6b>\u001b[0m in \u001b[0;36m<module>\u001b[0;34m()\u001b[0m\n\u001b[0;32m----> 1\u001b[0;31m \u001b[0mcust2\u001b[0m\u001b[0;34m.\u001b[0m\u001b[0mbonus\u001b[0m\u001b[0;34m\u001b[0m\u001b[0;34m\u001b[0m\u001b[0m\n\u001b[0m",
            "\u001b[0;31mNameError\u001b[0m: name 'cust2' is not defined"
          ]
        }
      ]
    },
    {
      "cell_type": "code",
      "metadata": {
        "id": "JQLAIYdGcK-d"
      },
      "source": [
        "cust1.apply_bonus()\n",
        "cust2.apply_bonus()\n",
        "cust1.reward , cust2.reward"
      ],
      "execution_count": null,
      "outputs": []
    },
    {
      "cell_type": "code",
      "metadata": {
        "id": "b2B60IracLA_"
      },
      "source": [
        ""
      ],
      "execution_count": null,
      "outputs": []
    }
  ]
}